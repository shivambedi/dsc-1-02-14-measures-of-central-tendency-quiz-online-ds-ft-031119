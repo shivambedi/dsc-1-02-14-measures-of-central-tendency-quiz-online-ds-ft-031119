{
 "cells": [
  {
   "cell_type": "markdown",
   "metadata": {},
   "source": [
    "# Measures of Central Tendency - Quiz\n",
    "\n",
    "## Objectives\n",
    "You will be able to:\n",
    "* Understand and describe the significance of measuring central tendency of continuous data\n",
    "* Understand the formula and intuition behind the mean, median, mode and modal class\n",
    "* Compare mean-median-mode, along with histograms to explain the central tendency of given data"
   ]
  },
  {
   "cell_type": "markdown",
   "metadata": {},
   "source": [
    "**Note, for these exercises, you do not need to write code to answer them - we'll do that later. Just do them by hand or with a calculator to make sure you're comfortable with the process of calculating the answers!**\n",
    "\n",
    "### Exercise 1\n",
    "Calculate the mean, median and mode for this data set: \n",
    "```\n",
    "19, 18, 21, 16, 15, 17, 20, 18\n",
    "```\n",
    "While comparing the results of three measures, comment about this distribution. "
   ]
  },
  {
   "cell_type": "code",
   "execution_count": 67,
   "metadata": {},
   "outputs": [
    {
     "name": "stdout",
     "output_type": "stream",
     "text": [
      "The mean for the dataset is : 18.0\n"
     ]
    }
   ],
   "source": [
    "dataset = [19, 18, 21, 16, 15, 17, 20, 18]\n",
    "dataset_mean=sum(dataset)/len(dataset)\n",
    "print(f\"The mean for the dataset is : {dataset_mean}\")"
   ]
  },
  {
   "cell_type": "code",
   "execution_count": 68,
   "metadata": {},
   "outputs": [
    {
     "name": "stdout",
     "output_type": "stream",
     "text": [
      "Median value is: 18.0\n"
     ]
    }
   ],
   "source": [
    "dataset_length=len(dataset)\n",
    "dataset_length\n",
    "dataset.sort()\n",
    "first_med_value=int(dataset_length/2)\n",
    "second_med_value=int((dataset_length/2)-1)\n",
    "dataset_median=((dataset[first_med_value]+dataset[second_med_value])/2)\n",
    "print(f\"Median value is: {dataset_median}\")"
   ]
  },
  {
   "cell_type": "code",
   "execution_count": 75,
   "metadata": {},
   "outputs": [
    {
     "name": "stdout",
     "output_type": "stream",
     "text": [
      "visually looking at the dataset shows mode to be 18\n"
     ]
    }
   ],
   "source": [
    "print(\"visually looking at the dataset shows mode to be 18\")"
   ]
  },
  {
   "cell_type": "code",
   "execution_count": 70,
   "metadata": {},
   "outputs": [
    {
     "name": "stdout",
     "output_type": "stream",
     "text": [
      "Mean, Median, Mode are all the same =18\n"
     ]
    }
   ],
   "source": [
    "print(\"Mean, Median, Mode are all the same =18\")"
   ]
  },
  {
   "cell_type": "markdown",
   "metadata": {},
   "source": [
    "### Exercise 2\n",
    "\n",
    "Calculate the mean, median and mode for given distribution and state which of these measures does not describe the \"middle\" of this data set? and why ?\n",
    "```\n",
    "100, 99, 97, 97, 96, 98, 95, 72\n",
    "```"
   ]
  },
  {
   "cell_type": "code",
   "execution_count": 77,
   "metadata": {},
   "outputs": [
    {
     "name": "stdout",
     "output_type": "stream",
     "text": [
      "The mean for the dataset is : 94.25\n"
     ]
    }
   ],
   "source": [
    "new_dataset=[100, 99, 97, 97, 96, 98, 95, 72]\n",
    "dataset_mean=sum(new_dataset)/len(new_dataset)\n",
    "print(f\"The mean for the dataset is : {dataset_mean}\")"
   ]
  },
  {
   "cell_type": "code",
   "execution_count": 72,
   "metadata": {},
   "outputs": [
    {
     "name": "stdout",
     "output_type": "stream",
     "text": [
      "Median value is: 97.0\n"
     ]
    }
   ],
   "source": [
    "dataset_length=len(new_dataset)\n",
    "new_dataset.sort()\n",
    "first_med_value=int(dataset_length/2)\n",
    "second_med_value=int((dataset_length/2)-1)\n",
    "dataset_median=((new_dataset[first_med_value]+new_dataset[second_med_value])/2)\n",
    "print(f\"Median value is: {dataset_median}\")"
   ]
  },
  {
   "cell_type": "code",
   "execution_count": 74,
   "metadata": {},
   "outputs": [
    {
     "name": "stdout",
     "output_type": "stream",
     "text": [
      "visually looking at the dataset shows mode to be 97\n"
     ]
    }
   ],
   "source": [
    "print(\"visually looking at the dataset shows mode to be 97\")"
   ]
  },
  {
   "cell_type": "code",
   "execution_count": 76,
   "metadata": {},
   "outputs": [
    {
     "name": "stdout",
     "output_type": "stream",
     "text": [
      "The mean value 94.25 does not reprsents the middle of the ditribution because of the outlier value 72\n"
     ]
    }
   ],
   "source": [
    "print(\"The mean value 94.25 does not reprsents the middle of the ditribution because of the outlier value 72\")"
   ]
  },
  {
   "cell_type": "markdown",
   "metadata": {},
   "source": [
    "### Exercise 3\n",
    "On the first three days of his bookshop opening, Joe sold 15, 18, and 16 books (He initially hoped that he would sell 17 books every day).  How many books does he need to sell on the next day to have a mean sale of 17?"
   ]
  },
  {
   "cell_type": "code",
   "execution_count": 84,
   "metadata": {},
   "outputs": [
    {
     "name": "stdout",
     "output_type": "stream",
     "text": [
      "The mean for the dataset is : 16\n",
      "The number of books Joe has to sell to meet the target is: 1\n"
     ]
    }
   ],
   "source": [
    "book_sales=[15,18,17]\n",
    "target_sale=17\n",
    "book_sales_mean=int(sum(book_sales)/len(book_sales))\n",
    "print(f\"The mean for the dataset is : {book_sales_mean}\")\n",
    "additional_sale_required= target_sale-book_sales_mean\n",
    "print(f\"The number of books Joe has to sell to meet the target is: {additional_sale_required}\")"
   ]
  },
  {
   "cell_type": "markdown",
   "metadata": {},
   "source": [
    "### Exercise 4\n",
    "The histograms show the amount of time (hours per day) spent on Facebook by 46 middle school girls and 40 middle school boys from a school in San Francisco. A total of 50 boys and 50 girls took the survey, 4 girls and 10 boys did not use Facebook at all. \n",
    "Each is graphed with a bin width of 0.25 hours.\n",
    "\n",
    "![](boys.png)\n",
    "![](girls.png)\n",
    "\n",
    "Looking at these histograms, answer following questions. \n",
    "\n",
    "*Hint: For most parts, you will have to figure out the location of required bins and count the frequencies. *\n",
    "\n",
    "#### How many boys spend more than 1.5 hours/day on Facebook?\n"
   ]
  },
  {
   "cell_type": "code",
   "execution_count": 87,
   "metadata": {},
   "outputs": [
    {
     "data": {
      "text/plain": [
       "'8'"
      ]
     },
     "execution_count": 87,
     "metadata": {},
     "output_type": "execute_result"
    }
   ],
   "source": [
    "\"8\""
   ]
  },
  {
   "cell_type": "markdown",
   "metadata": {},
   "source": [
    "#### Compare the percentage of boys and girls that spend more than zero but less than 1 hour/day on Facebook."
   ]
  },
  {
   "cell_type": "code",
   "execution_count": 90,
   "metadata": {},
   "outputs": [
    {
     "data": {
      "text/plain": [
       "'50 % boys and 26 % girsl spend more than zero but less than 1 hour/day'"
      ]
     },
     "execution_count": 90,
     "metadata": {},
     "output_type": "execute_result"
    }
   ],
   "source": [
    "\"20 boys and 12 girls\"\n",
    "\"50 % boys and 26 % girsl spend more than zero but less than 1 hour/day\""
   ]
  },
  {
   "cell_type": "markdown",
   "metadata": {},
   "source": [
    "#### Find the bin where the median of the boys' data set lies."
   ]
  },
  {
   "cell_type": "code",
   "execution_count": 91,
   "metadata": {},
   "outputs": [
    {
     "data": {
      "text/plain": [
       "'0.75 bin range has the median'"
      ]
     },
     "execution_count": 91,
     "metadata": {},
     "output_type": "execute_result"
    }
   ],
   "source": [
    "\"0.75 bin range has the median\""
   ]
  },
  {
   "cell_type": "markdown",
   "metadata": {},
   "source": [
    "#### In terms of Facebook usage times based on given data, what can you conclude about usage habits of boys and girls?"
   ]
  },
  {
   "cell_type": "code",
   "execution_count": 96,
   "metadata": {},
   "outputs": [
    {
     "name": "stdout",
     "output_type": "stream",
     "text": [
      "Girls spend much more time on these sites than boys.\n",
      "Girls' times vary more widely, ranging from zero to 4 hours/day.\n",
      "Boys' times top out at 2 hours/day.\n"
     ]
    }
   ],
   "source": [
    "print(\"Girls spend much more time on these sites than boys.\\nGirls' times vary more widely, ranging from zero to 4 hours/day.\\nBoys' times top out at 2 hours/day.\")"
   ]
  }
 ],
 "metadata": {
  "kernelspec": {
   "display_name": "learn-env",
   "language": "python",
   "name": "learn-env"
  },
  "language_info": {
   "codemirror_mode": {
    "name": "ipython",
    "version": 3
   },
   "file_extension": ".py",
   "mimetype": "text/x-python",
   "name": "python",
   "nbconvert_exporter": "python",
   "pygments_lexer": "ipython3",
   "version": "3.6.6"
  }
 },
 "nbformat": 4,
 "nbformat_minor": 2
}
